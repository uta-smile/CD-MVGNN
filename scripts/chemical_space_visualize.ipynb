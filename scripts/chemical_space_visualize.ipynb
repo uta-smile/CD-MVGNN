{
 "cells": [
  {
   "cell_type": "code",
   "execution_count": null,
   "metadata": {
    "collapsed": true
   },
   "outputs": [],
   "source": [
    "import seaborn as sb\n",
    "import pandas as pd\n",
    "import numpy as np\n",
    "\n",
    "sb.set()\n",
    "%matplotlib inline\n",
    "\n",
    "from sklearn.decomposition import PCA\n",
    "from sklearn.manifold import TSNE\n",
    "\n",
    "def fit_tsne(fea):\n",
    "    pca = PCA(n_components=50)\n",
    "    crds = pca.fit_transform(fea)\n",
    "    crds_embed = TSNE(n_components=2).fit_transform(crds)\n",
    "    tsne_df = pd.DataFrame(data=crds_embed, columns=['x', 'y'])\n",
    "    return tsne_df\n",
    "\n",
    "df_kit  = pd.read_csv('ochem_kit.csv')\n",
    "df_fea = np.load('ochem_fea.npz')['features']\n",
    "df_fea[np.isnan(df_fea)] = 0\n",
    "\n",
    "tsne_df = fit_tsne(df_fea)\n",
    "tsne_df['label'] = df_kit.logs\n",
    "ax = sb.scatterplot(data=tsne_df, x='x', y='y', hue='label')"
   ]
  }
 ],
 "metadata": {
  "language_info": {
   "codemirror_mode": {
    "name": "ipython",
    "version": 2
   },
   "file_extension": ".py",
   "mimetype": "text/x-python",
   "name": "python",
   "nbconvert_exporter": "python",
   "pygments_lexer": "ipython2",
   "version": "2.7.6"
  },
  "kernelspec": {
   "name": "python3",
   "language": "python",
   "display_name": "Python 3"
  },
  "pycharm": {
   "stem_cell": {
    "cell_type": "raw",
    "source": [],
    "metadata": {
     "collapsed": false
    }
   }
  }
 },
 "nbformat": 4,
 "nbformat_minor": 0
}